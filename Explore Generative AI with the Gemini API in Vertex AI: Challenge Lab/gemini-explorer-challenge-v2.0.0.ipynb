{
 "cells": [
  {
   "cell_type": "markdown",
   "id": "98d5040b",
   "metadata": {},
   "source": [
    "#### Install Google Gen AI SDK for Python"
   ]
  },
  {
   "cell_type": "code",
   "execution_count": 1,
   "id": "fa0cb94a-444f-4360-9196-395da2f58a4d",
   "metadata": {
    "tags": []
   },
   "outputs": [
    {
     "name": "stdout",
     "output_type": "stream",
     "text": [
      "Note: you may need to restart the kernel to use updated packages.\n"
     ]
    }
   ],
   "source": [
    "%pip install --upgrade --quiet google-genai"
   ]
  },
  {
   "cell_type": "markdown",
   "id": "0b4a8346",
   "metadata": {},
   "source": [
    "#### Restart runtime\n",
    "To use the newly installed packages in this Jupyter runtime, you must restart the runtime. You can do this by running the cell below, which restarts the current kernel."
   ]
  },
  {
   "cell_type": "code",
   "execution_count": 2,
   "id": "58aad280-7db1-4e39-886b-336d7e5791d7",
   "metadata": {
    "tags": []
   },
   "outputs": [
    {
     "data": {
      "text/plain": [
       "{'status': 'ok', 'restart': True}"
      ]
     },
     "execution_count": 2,
     "metadata": {},
     "output_type": "execute_result"
    }
   ],
   "source": [
    "# restart the kernel after libraries are loaded\n",
    "import IPython\n",
    "\n",
    "app = IPython.Application.instance()\n",
    "app.kernel.do_shutdown(True)"
   ]
  },
  {
   "cell_type": "markdown",
   "id": "150f5a9c",
   "metadata": {},
   "source": [
    "### Set Google Cloud project information and create client\n",
    "\n",
    "To get started using Vertex AI, you must have an existing Google Cloud project and [enable the Vertex AI API](https://console.cloud.google.com/flows/enableapi?apiid=aiplatform.googleapis.com).\n",
    "\n"
   ]
  },
  {
   "cell_type": "code",
   "execution_count": 1,
   "id": "45472ded-bc1f-47a5-9782-fb8fb8538f41",
   "metadata": {
    "tags": []
   },
   "outputs": [],
   "source": [
    "# Define project information\n",
    "PROJECT_ID = \"qwiklabs-gcp-04-e814de594028\"  # @param {type:\"string\"}\n",
    "LOCATION = \"us-west4\"  # @param {type:\"string\"}\n",
    "\n",
    "# Create the API client\n",
    "from google import genai\n",
    "client = genai.Client(vertexai=True, project=PROJECT_ID, location=LOCATION)"
   ]
  },
  {
   "cell_type": "markdown",
   "id": "5d907146",
   "metadata": {},
   "source": [
    "#### Import libraries\n"
   ]
  },
  {
   "cell_type": "code",
   "execution_count": 2,
   "id": "4c672ce5-01ee-4884-a76f-c069d06c412a",
   "metadata": {
    "tags": []
   },
   "outputs": [],
   "source": [
    "from google.genai.types import (\n",
    "    FunctionDeclaration,\n",
    "    GenerateContentConfig,\n",
    "    Tool,\n",
    "    Part\n",
    ")"
   ]
  },
  {
   "cell_type": "markdown",
   "id": "cc901e8a",
   "metadata": {},
   "source": [
    "### Task 3. Create a function call using Gemini"
   ]
  },
  {
   "cell_type": "code",
   "execution_count": 3,
   "id": "cb0e9207-2646-4378-9350-cef083822807",
   "metadata": {
    "tags": []
   },
   "outputs": [],
   "source": [
    "# Task 3.1\n",
    "# use the following documentation to assist you complete this cell\n",
    "# https://cloud.google.com/vertex-ai/docs/generative-ai/multimodal/function-calling#function-calling-generation-sdk-sample\n",
    "# Load Gemini 2.0 Flash 001 Model\n",
    "model_id = \"gemini-2.0-flash-001\""
   ]
  },
  {
   "cell_type": "code",
   "execution_count": 4,
   "id": "8d349748-4a56-4759-98d7-e918b476c317",
   "metadata": {
    "tags": []
   },
   "outputs": [],
   "source": [
    "# Task 3.2\n",
    "# use the following documentation to assist you complete this cell\n",
    "# https://cloud.google.com/vertex-ai/docs/generative-ai/multimodal/function-calling#function-calling-generation-sdk-sample\n",
    "get_current_weather_func = FunctionDeclaration(\n",
    "    name=\"get_current_weather\",\n",
    "    description=\"Get the current weather in a given location\",\n",
    "    parameters={\n",
    "        \"type\": \"object\",\n",
    "        \"properties\": {\n",
    "            \"location\": {\n",
    "                \"type\": \"string\",\n",
    "                \"description\": \"Location\"\n",
    "            }\n",
    "        }\n",
    "    },\n",
    ")"
   ]
  },
  {
   "cell_type": "code",
   "execution_count": 5,
   "id": "280aa0f9-ef27-4664-b9f6-ed6847d8f76b",
   "metadata": {
    "tags": []
   },
   "outputs": [],
   "source": [
    "# Task 3.3\n",
    "# use the following documentation to assist you complete this cell\n",
    "# https://cloud.google.com/vertex-ai/docs/generative-ai/multimodal/function-calling#function-calling-generation-sdk-sample\n",
    "weather_tool = Tool(\n",
    "    function_declarations=[get_current_weather_func],\n",
    ")"
   ]
  },
  {
   "cell_type": "code",
   "execution_count": 6,
   "id": "10b41dfd-5d43-4c21-8992-c76ed319af66",
   "metadata": {
    "tags": []
   },
   "outputs": [
    {
     "ename": "ValidationError",
     "evalue": "14 validation errors for GenerateContentConfig\ntools.0.Tool\n  Input should be a valid dictionary or object to extract fields from [type=model_attributes_type, input_value=('retrieval', None), input_type=tuple]\n    For further information visit https://errors.pydantic.dev/2.11/v/model_attributes_type\ntools.0.callable\n  Input should be callable [type=callable_type, input_value=('retrieval', None), input_type=tuple]\n    For further information visit https://errors.pydantic.dev/2.11/v/callable_type\ntools.1.Tool\n  Input should be a valid dictionary or object to extract fields from [type=model_attributes_type, input_value=('google_search', None), input_type=tuple]\n    For further information visit https://errors.pydantic.dev/2.11/v/model_attributes_type\ntools.1.callable\n  Input should be callable [type=callable_type, input_value=('google_search', None), input_type=tuple]\n    For further information visit https://errors.pydantic.dev/2.11/v/callable_type\ntools.2.Tool\n  Input should be a valid dictionary or object to extract fields from [type=model_attributes_type, input_value=('google_search_retrieval', None), input_type=tuple]\n    For further information visit https://errors.pydantic.dev/2.11/v/model_attributes_type\ntools.2.callable\n  Input should be callable [type=callable_type, input_value=('google_search_retrieval', None), input_type=tuple]\n    For further information visit https://errors.pydantic.dev/2.11/v/callable_type\ntools.3.Tool\n  Input should be a valid dictionary or object to extract fields from [type=model_attributes_type, input_value=('enterprise_web_search', None), input_type=tuple]\n    For further information visit https://errors.pydantic.dev/2.11/v/model_attributes_type\ntools.3.callable\n  Input should be callable [type=callable_type, input_value=('enterprise_web_search', None), input_type=tuple]\n    For further information visit https://errors.pydantic.dev/2.11/v/callable_type\ntools.4.Tool\n  Input should be a valid dictionary or object to extract fields from [type=model_attributes_type, input_value=('google_maps', None), input_type=tuple]\n    For further information visit https://errors.pydantic.dev/2.11/v/model_attributes_type\ntools.4.callable\n  Input should be callable [type=callable_type, input_value=('google_maps', None), input_type=tuple]\n    For further information visit https://errors.pydantic.dev/2.11/v/callable_type\ntools.5.Tool\n  Input should be a valid dictionary or object to extract fields from [type=model_attributes_type, input_value=('code_execution', None), input_type=tuple]\n    For further information visit https://errors.pydantic.dev/2.11/v/model_attributes_type\ntools.5.callable\n  Input should be callable [type=callable_type, input_value=('code_execution', None), input_type=tuple]\n    For further information visit https://errors.pydantic.dev/2.11/v/callable_type\ntools.6.Tool\n  Input should be a valid dictionary or object to extract fields from [type=model_attributes_type, input_value=('function_declarations',...ECT'>), response=None)]), input_type=tuple]\n    For further information visit https://errors.pydantic.dev/2.11/v/model_attributes_type\ntools.6.callable\n  Input should be callable [type=callable_type, input_value=('function_declarations',...ECT'>), response=None)]), input_type=tuple]\n    For further information visit https://errors.pydantic.dev/2.11/v/callable_type",
     "output_type": "error",
     "traceback": [
      "\u001b[0;31m---------------------------------------------------------------------------\u001b[0m",
      "\u001b[0;31mValidationError\u001b[0m                           Traceback (most recent call last)",
      "Cell \u001b[0;32mIn[6], line 8\u001b[0m\n\u001b[1;32m      1\u001b[0m \u001b[38;5;66;03m# Task 3.4\u001b[39;00m\n\u001b[1;32m      2\u001b[0m \u001b[38;5;66;03m# use the following documentation to assist you complete this cell\u001b[39;00m\n\u001b[1;32m      3\u001b[0m \u001b[38;5;66;03m# https://cloud.google.com/vertex-ai/docs/generative-ai/multimodal/function-calling#function-calling-generation-sdk-sample\u001b[39;00m\n\u001b[1;32m      4\u001b[0m prompt \u001b[38;5;241m=\u001b[39m \u001b[38;5;124m\"\u001b[39m\u001b[38;5;124mWhat is the weather like in Boston?\u001b[39m\u001b[38;5;124m\"\u001b[39m\n\u001b[1;32m      5\u001b[0m response \u001b[38;5;241m=\u001b[39m client\u001b[38;5;241m.\u001b[39mmodels\u001b[38;5;241m.\u001b[39mgenerate_content(\n\u001b[1;32m      6\u001b[0m     model\u001b[38;5;241m=\u001b[39mmodel_id,\n\u001b[1;32m      7\u001b[0m     contents\u001b[38;5;241m=\u001b[39mprompt,\n\u001b[0;32m----> 8\u001b[0m     config\u001b[38;5;241m=\u001b[39m\u001b[43mGenerateContentConfig\u001b[49m\u001b[43m(\u001b[49m\n\u001b[1;32m      9\u001b[0m \u001b[43m        \u001b[49m\u001b[43mtools\u001b[49m\u001b[38;5;241;43m=\u001b[39;49m\u001b[43mweather_tool\u001b[49m\u001b[43m,\u001b[49m\n\u001b[1;32m     10\u001b[0m \u001b[43m        \u001b[49m\u001b[43mtemperature\u001b[49m\u001b[38;5;241;43m=\u001b[39;49m\u001b[38;5;241;43m0\u001b[39;49m\u001b[43m,\u001b[49m\n\u001b[1;32m     11\u001b[0m \u001b[43m    \u001b[49m\u001b[43m)\u001b[49m,\n\u001b[1;32m     12\u001b[0m )\n\u001b[1;32m     13\u001b[0m response\n",
      "File \u001b[0;32m/opt/conda/lib/python3.10/site-packages/pydantic/main.py:243\u001b[0m, in \u001b[0;36mBaseModel.__init__\u001b[0;34m(self, **data)\u001b[0m\n\u001b[1;32m    241\u001b[0m \u001b[38;5;66;03m# `__tracebackhide__` tells pytest and some other tools to omit this function from tracebacks\u001b[39;00m\n\u001b[1;32m    242\u001b[0m __tracebackhide__ \u001b[38;5;241m=\u001b[39m \u001b[38;5;28;01mTrue\u001b[39;00m\n\u001b[0;32m--> 243\u001b[0m validated_self \u001b[38;5;241m=\u001b[39m \u001b[38;5;28;43mself\u001b[39;49m\u001b[38;5;241;43m.\u001b[39;49m\u001b[43m__pydantic_validator__\u001b[49m\u001b[38;5;241;43m.\u001b[39;49m\u001b[43mvalidate_python\u001b[49m\u001b[43m(\u001b[49m\u001b[43mdata\u001b[49m\u001b[43m,\u001b[49m\u001b[43m \u001b[49m\u001b[43mself_instance\u001b[49m\u001b[38;5;241;43m=\u001b[39;49m\u001b[38;5;28;43mself\u001b[39;49m\u001b[43m)\u001b[49m\n\u001b[1;32m    244\u001b[0m \u001b[38;5;28;01mif\u001b[39;00m \u001b[38;5;28mself\u001b[39m \u001b[38;5;129;01mis\u001b[39;00m \u001b[38;5;129;01mnot\u001b[39;00m validated_self:\n\u001b[1;32m    245\u001b[0m     warnings\u001b[38;5;241m.\u001b[39mwarn(\n\u001b[1;32m    246\u001b[0m         \u001b[38;5;124m'\u001b[39m\u001b[38;5;124mA custom validator is returning a value other than `self`.\u001b[39m\u001b[38;5;130;01m\\n\u001b[39;00m\u001b[38;5;124m'\u001b[39m\n\u001b[1;32m    247\u001b[0m         \u001b[38;5;124m\"\u001b[39m\u001b[38;5;124mReturning anything other than `self` from a top level model validator isn\u001b[39m\u001b[38;5;124m'\u001b[39m\u001b[38;5;124mt supported when validating via `__init__`.\u001b[39m\u001b[38;5;130;01m\\n\u001b[39;00m\u001b[38;5;124m\"\u001b[39m\n\u001b[1;32m    248\u001b[0m         \u001b[38;5;124m'\u001b[39m\u001b[38;5;124mSee the `model_validator` docs (https://docs.pydantic.dev/latest/concepts/validators/#model-validators) for more details.\u001b[39m\u001b[38;5;124m'\u001b[39m,\n\u001b[1;32m    249\u001b[0m         stacklevel\u001b[38;5;241m=\u001b[39m\u001b[38;5;241m2\u001b[39m,\n\u001b[1;32m    250\u001b[0m     )\n",
      "\u001b[0;31mValidationError\u001b[0m: 14 validation errors for GenerateContentConfig\ntools.0.Tool\n  Input should be a valid dictionary or object to extract fields from [type=model_attributes_type, input_value=('retrieval', None), input_type=tuple]\n    For further information visit https://errors.pydantic.dev/2.11/v/model_attributes_type\ntools.0.callable\n  Input should be callable [type=callable_type, input_value=('retrieval', None), input_type=tuple]\n    For further information visit https://errors.pydantic.dev/2.11/v/callable_type\ntools.1.Tool\n  Input should be a valid dictionary or object to extract fields from [type=model_attributes_type, input_value=('google_search', None), input_type=tuple]\n    For further information visit https://errors.pydantic.dev/2.11/v/model_attributes_type\ntools.1.callable\n  Input should be callable [type=callable_type, input_value=('google_search', None), input_type=tuple]\n    For further information visit https://errors.pydantic.dev/2.11/v/callable_type\ntools.2.Tool\n  Input should be a valid dictionary or object to extract fields from [type=model_attributes_type, input_value=('google_search_retrieval', None), input_type=tuple]\n    For further information visit https://errors.pydantic.dev/2.11/v/model_attributes_type\ntools.2.callable\n  Input should be callable [type=callable_type, input_value=('google_search_retrieval', None), input_type=tuple]\n    For further information visit https://errors.pydantic.dev/2.11/v/callable_type\ntools.3.Tool\n  Input should be a valid dictionary or object to extract fields from [type=model_attributes_type, input_value=('enterprise_web_search', None), input_type=tuple]\n    For further information visit https://errors.pydantic.dev/2.11/v/model_attributes_type\ntools.3.callable\n  Input should be callable [type=callable_type, input_value=('enterprise_web_search', None), input_type=tuple]\n    For further information visit https://errors.pydantic.dev/2.11/v/callable_type\ntools.4.Tool\n  Input should be a valid dictionary or object to extract fields from [type=model_attributes_type, input_value=('google_maps', None), input_type=tuple]\n    For further information visit https://errors.pydantic.dev/2.11/v/model_attributes_type\ntools.4.callable\n  Input should be callable [type=callable_type, input_value=('google_maps', None), input_type=tuple]\n    For further information visit https://errors.pydantic.dev/2.11/v/callable_type\ntools.5.Tool\n  Input should be a valid dictionary or object to extract fields from [type=model_attributes_type, input_value=('code_execution', None), input_type=tuple]\n    For further information visit https://errors.pydantic.dev/2.11/v/model_attributes_type\ntools.5.callable\n  Input should be callable [type=callable_type, input_value=('code_execution', None), input_type=tuple]\n    For further information visit https://errors.pydantic.dev/2.11/v/callable_type\ntools.6.Tool\n  Input should be a valid dictionary or object to extract fields from [type=model_attributes_type, input_value=('function_declarations',...ECT'>), response=None)]), input_type=tuple]\n    For further information visit https://errors.pydantic.dev/2.11/v/model_attributes_type\ntools.6.callable\n  Input should be callable [type=callable_type, input_value=('function_declarations',...ECT'>), response=None)]), input_type=tuple]\n    For further information visit https://errors.pydantic.dev/2.11/v/callable_type"
     ]
    }
   ],
   "source": [
    "# Task 3.4\n",
    "# use the following documentation to assist you complete this cell\n",
    "# https://cloud.google.com/vertex-ai/docs/generative-ai/multimodal/function-calling#function-calling-generation-sdk-sample\n",
    "prompt = \"What is the weather like in Boston?\"\n",
    "response = client.models.generate_content(\n",
    "    model=model_id,\n",
    "    contents=prompt,\n",
    "    config=GenerateContentConfig(\n",
    "        tools=weather_tool,\n",
    "        temperature=0,\n",
    "    ),\n",
    ")\n",
    "response"
   ]
  },
  {
   "cell_type": "markdown",
   "id": "de586d1d",
   "metadata": {},
   "source": [
    "### Task 4. Describe video contents using Gemini"
   ]
  },
  {
   "cell_type": "code",
   "execution_count": 7,
   "id": "8e8033df-507a-4fc8-b14c-f015be9f66af",
   "metadata": {
    "tags": []
   },
   "outputs": [],
   "source": [
    "# Run the following cell to import required libraries \n",
    "from google.genai.types import (\n",
    "    GenerationConfig,\n",
    "    Image,\n",
    "    Part,\n",
    ")"
   ]
  },
  {
   "cell_type": "code",
   "execution_count": 8,
   "id": "75434b8d-e7d0-4241-9cab-fa735a617b82",
   "metadata": {
    "tags": []
   },
   "outputs": [],
   "source": [
    "# Task 4.1\n",
    "# Load the correct Gemini model use the following documentation to assist:\n",
    "# https://cloud.google.com/vertex-ai/docs/generative-ai/multimodal/overview#supported-use-cases\n",
    "# Load Gemini 2.0 Flash 001 Model\n",
    "multimodal_model = \"gemini-2.0-flash-001\""
   ]
  },
  {
   "cell_type": "code",
   "execution_count": 9,
   "id": "99b6f262-1956-4c3e-a0ab-39b412d19ee4",
   "metadata": {
    "tags": []
   },
   "outputs": [],
   "source": [
    "import http.client\n",
    "import typing\n",
    "import urllib.request\n",
    "\n",
    "import IPython.display\n",
    "from PIL import Image as PIL_Image\n",
    "from PIL import ImageOps as PIL_ImageOps\n",
    "\n",
    "\n",
    "def display_images(\n",
    "    images: typing.Iterable[Image],\n",
    "    max_width: int = 600,\n",
    "    max_height: int = 350,\n",
    ") -> None:\n",
    "    for image in images:\n",
    "        pil_image = typing.cast(PIL_Image.Image, image._pil_image)\n",
    "        if pil_image.mode != \"RGB\":\n",
    "            # RGB is supported by all Jupyter environments (e.g. RGBA is not yet)\n",
    "            pil_image = pil_image.convert(\"RGB\")\n",
    "        image_width, image_height = pil_image.size\n",
    "        if max_width < image_width or max_height < image_height:\n",
    "            # Resize to display a smaller notebook image\n",
    "            pil_image = PIL_ImageOps.contain(pil_image, (max_width, max_height))\n",
    "        IPython.display.display(pil_image)\n",
    "\n",
    "\n",
    "def get_image_bytes_from_url(image_url: str) -> bytes:\n",
    "    with urllib.request.urlopen(image_url) as response:\n",
    "        response = typing.cast(http.client.HTTPResponse, response)\n",
    "        image_bytes = response.read()\n",
    "    return image_bytes\n",
    "\n",
    "\n",
    "def load_image_from_url(image_url: str) -> Image:\n",
    "    image_bytes = get_image_bytes_from_url(image_url)\n",
    "    return Image.from_bytes(image_bytes)\n",
    "\n",
    "\n",
    "def display_content_as_image(content: str | Image | Part) -> bool:\n",
    "    if not isinstance(content, Image):\n",
    "        return False\n",
    "    display_images([content])\n",
    "    return True\n",
    "\n",
    "\n",
    "def display_content_as_video(content: str | Image | Part) -> bool:\n",
    "    if not isinstance(content, Part):\n",
    "        return False\n",
    "    part = typing.cast(Part, content)\n",
    "    file_path = part.file_data.file_uri.removeprefix(\"gs://\")\n",
    "    video_url = f\"https://storage.googleapis.com/{file_path}\"\n",
    "    IPython.display.display(IPython.display.Video(video_url, width=600))\n",
    "    return True\n",
    "\n",
    "\n",
    "def print_multimodal_prompt(contents: list[str | Image | Part]):\n",
    "    \"\"\"\n",
    "    Given contents that would be sent to Gemini,\n",
    "    output the full multimodal prompt for ease of readability.\n",
    "    \"\"\"\n",
    "    for content in contents:\n",
    "        if display_content_as_image(content):\n",
    "            continue\n",
    "        if display_content_as_video(content):\n",
    "            continue\n",
    "        print(content)"
   ]
  },
  {
   "cell_type": "code",
   "execution_count": 10,
   "id": "17aae9ba-edcb-4c63-af88-26380dfd5170",
   "metadata": {
    "tags": []
   },
   "outputs": [
    {
     "name": "stdout",
     "output_type": "stream",
     "text": [
      "-------Prompt--------\n",
      "\n",
      "What is shown in this video?\n",
      "Where should I go to see it?\n",
      "What are the top 5 places in the world that look like this?\n",
      "\n"
     ]
    },
    {
     "data": {
      "text/html": [
       "<video src=\"https://storage.googleapis.com/github-repo/img/gemini/multimodality_usecases_overview/mediterraneansea.mp4\" controls  width=\"600\" >\n",
       "      Your browser does not support the <code>video</code> element.\n",
       "    </video>"
      ],
      "text/plain": [
       "<IPython.core.display.Video object>"
      ]
     },
     "metadata": {},
     "output_type": "display_data"
    },
    {
     "name": "stdout",
     "output_type": "stream",
     "text": [
      "\n",
      "-------Response--------\n",
      "Here is the information you requested about the video:\n",
      "\n",
      "*   **What is shown in this video?** The video shows an aerial view of Kaleiçi Marina (Old City Marina) in Antalya, Turkey.\n",
      "\n",
      "*   **Where should I go to see it?** You need to travel to Kaleiçi Marina in Antalya, Turkey.\n",
      "\n",
      "*   **What are the top 5 places in the world that look like this?** It's difficult to find places that look exactly the same. Here are five places that share some similarities, such as coastal cliffs, marinas, and historical settings:\n",
      "\n",
      "    1.  **Dubrovnik, Croatia:** Also located on the Adriatic Sea, Dubrovnik has a historic walled city with a marina nestled below. The dramatic cliffs and stunning blue water are reminiscent of Antalya.\n",
      "\n",
      "    2.  **Cinque Terre, Italy:** The five villages of Cinque Terre along the Italian Riviera are known for their colorful houses, steep coastal cliffs, and picturesque harbors.\n",
      "\n",
      "    3.  **Santorini, Greece:** Famous for its white-washed buildings perched on volcanic cliffs overlooking the Aegean Sea. The combination of cliffside towns and a vibrant marina creates a similar scenic appeal.\n",
      "\n",
      "    4.  **Valletta, Malta:** Another Mediterranean gem with a rich history and stunning coastline. Valletta features fortified walls, harbors, and breathtaking views.\n",
      "\n",
      "    5.  **Albufeira, Portugal:** This coastal town in the Algarve region of Portugal has dramatic cliffs, beautiful beaches, and a marina, offering a similar coastal vibe."
     ]
    }
   ],
   "source": [
    "# Task 4.2 Generate a video description\n",
    "# In this cell, update the prompt to ask Gemini to describe the video URL referenced.\n",
    "# You can use the documentation at the following link to assist.\n",
    "# https://cloud.google.com/vertex-ai/docs/generative-ai/multimodal/sdk-for-gemini/gemini-sdk-overview-reference#generate-content-from-video\n",
    "# https://cloud.google.com/vertex-ai/generative-ai/docs/model-reference/inference#sample-requests-text-stream-response\n",
    "# Video URI: gs://github-repo/img/gemini/multimodality_usecases_overview/mediterraneansea.mp4\n",
    "\n",
    "prompt = \"\"\"\n",
    "What is shown in this video?\n",
    "Where should I go to see it?\n",
    "What are the top 5 places in the world that look like this?\n",
    "\"\"\"\n",
    "video = Part.from_uri(\n",
    "    file_uri=\"gs://github-repo/img/gemini/multimodality_usecases_overview/mediterraneansea.mp4\",\n",
    "    mime_type=\"video/mp4\",\n",
    ")\n",
    "contents = [prompt, video]\n",
    "\n",
    "responses = client.models.generate_content_stream(\n",
    "    model=multimodal_model,\n",
    "    contents=contents\n",
    ")\n",
    "\n",
    "print(\"-------Prompt--------\")\n",
    "print_multimodal_prompt(contents)\n",
    "\n",
    "print(\"\\n-------Response--------\")\n",
    "for response in responses:\n",
    "    print(response.text, end=\"\")"
   ]
  }
 ],
 "metadata": {
  "environment": {
   "kernel": "conda-base-py",
   "name": "workbench-notebooks.m129",
   "type": "gcloud",
   "uri": "us-docker.pkg.dev/deeplearning-platform-release/gcr.io/workbench-notebooks:m129"
  },
  "kernelspec": {
   "display_name": "Python 3 (ipykernel) (Local)",
   "language": "python",
   "name": "conda-base-py"
  },
  "language_info": {
   "codemirror_mode": {
    "name": "ipython",
    "version": 3
   },
   "file_extension": ".py",
   "mimetype": "text/x-python",
   "name": "python",
   "nbconvert_exporter": "python",
   "pygments_lexer": "ipython3",
   "version": "3.10.16"
  }
 },
 "nbformat": 4,
 "nbformat_minor": 5
}
